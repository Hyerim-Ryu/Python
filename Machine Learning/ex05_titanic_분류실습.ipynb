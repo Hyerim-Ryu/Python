{
 "cells": [
  {
   "cell_type": "markdown",
   "id": "c4e941ef",
   "metadata": {},
   "source": [
    "### 목표\n",
    "    - 타이타닉 데이터를 활용하여 생존자/사망자 예측해보자\n",
    "    - kaggle 경진대회에 참가하여 우리 점수를 확인해보자\n",
    "    - 머신러닝의 전체 과정을 체험해보자\n",
    "    \n",
    "#### 머신러닝 과정\n",
    "    - 1. 문제정의 : 목표설정, 어떤 모델\n",
    "    - 2. 데이터 수집 : 분류를 할거라면 class로 담긴 레이블이 있는 데이터 수집 같은\n",
    "    - 3. 데이터 전처리 : 이상치/결측치 처리, 특성 처리(특성공학)\n",
    "    - 4. 데이터 탐색(탐색적 데이터 분석): 기술 통계, 특성 과의 관계\n",
    "    - 5. 모델 선택 및 하이퍼파리미터 설정\n",
    "    - 6. 모델 선택 및 평가\n",
    "    - 7. 모델 서비스화\n",
    "    "
   ]
  },
  {
   "cell_type": "code",
   "execution_count": 1,
   "id": "33231e20",
   "metadata": {},
   "outputs": [],
   "source": [
    "import numpy as np\n",
    "import pandas as pd\n",
    "import matplotlib.pyplot as plt # 시각화 라이브러리\n",
    "import seaborn as sns # 시각화 라이브러리\n",
    "# train, test 분리하는 도구\n",
    "from sklearn.model_selection import train_test_split\n",
    "# 평가 도구\n",
    "from sklearn.metrics import accuracy_score\n",
    "# tree model - 사망/생존 이진분류\n",
    "from sklearn.tree import DecisionTreeClassifier"
   ]
  },
  {
   "cell_type": "markdown",
   "id": "94b2ad9f",
   "metadata": {},
   "source": [
    " 0   Survived  - 생존/ 사망 여부 (답 데이터, Class Label)  \n",
    " 1   Pclass    - 승객의 등급(1- 귀족층,2- 중간층,3- 하위계층)  \n",
    " 2   Name      - 이름        \n",
    " 3   Sex       - 성별(male, female)\n",
    " 4   Age       - 나이(0~  \n",
    " 5   SibSp     - 형제자매+배우자 수  \n",
    " 6   Parch     - 부모 + 자식 수  \n",
    " 7   Ticket    - 티겟 번호  \n",
    " 8   Fare      - 요금  \n",
    " 9   Cabin     - 객실번호  \n",
    " 10  Embarked  - 승선항  "
   ]
  },
  {
   "cell_type": "code",
   "execution_count": 16,
   "id": "84b8b3dd",
   "metadata": {
    "scrolled": true
   },
   "outputs": [
    {
     "name": "stdout",
     "output_type": "stream",
     "text": [
      "<class 'pandas.core.frame.DataFrame'>\n",
      "Int64Index: 891 entries, 1 to 891\n",
      "Data columns (total 11 columns):\n",
      " #   Column    Non-Null Count  Dtype  \n",
      "---  ------    --------------  -----  \n",
      " 0   Survived  891 non-null    int64  \n",
      " 1   Pclass    891 non-null    int64  \n",
      " 2   Name      891 non-null    object \n",
      " 3   Sex       891 non-null    object \n",
      " 4   Age       714 non-null    float64\n",
      " 5   SibSp     891 non-null    int64  \n",
      " 6   Parch     891 non-null    int64  \n",
      " 7   Ticket    891 non-null    object \n",
      " 8   Fare      891 non-null    float64\n",
      " 9   Cabin     204 non-null    object \n",
      " 10  Embarked  889 non-null    object \n",
      "dtypes: float64(2), int64(4), object(5)\n",
      "memory usage: 83.5+ KB\n",
      "<class 'pandas.core.frame.DataFrame'>\n",
      "Int64Index: 418 entries, 892 to 1309\n",
      "Data columns (total 10 columns):\n",
      " #   Column    Non-Null Count  Dtype  \n",
      "---  ------    --------------  -----  \n",
      " 0   Pclass    418 non-null    int64  \n",
      " 1   Name      418 non-null    object \n",
      " 2   Sex       418 non-null    object \n",
      " 3   Age       332 non-null    float64\n",
      " 4   SibSp     418 non-null    int64  \n",
      " 5   Parch     418 non-null    int64  \n",
      " 6   Ticket    418 non-null    object \n",
      " 7   Fare      417 non-null    float64\n",
      " 8   Cabin     91 non-null     object \n",
      " 9   Embarked  418 non-null    object \n",
      "dtypes: float64(2), int64(3), object(5)\n",
      "memory usage: 35.9+ KB\n"
     ]
    }
   ],
   "source": [
    "# train , test 변수에 데이터 불러와서 담기\n",
    "# 단, 인덱스를 승객의 번호로 설정해서 담아줄 것\n",
    "train = pd.read_csv('data/titanic/train.csv', index_col = 'PassengerId')\n",
    "test = pd.read_csv('data/titanic/test.csv', index_col = 'PassengerId')\n",
    "train.info()\n",
    "test.info()"
   ]
  },
  {
   "cell_type": "code",
   "execution_count": 17,
   "id": "d90191aa",
   "metadata": {
    "scrolled": true
   },
   "outputs": [
    {
     "name": "stdout",
     "output_type": "stream",
     "text": [
      "트레인 크기: (891, 11)\n",
      "테스트 크기: (418, 10)\n"
     ]
    }
   ],
   "source": [
    "# 크기 확인\n",
    "print('트레인 크기:', train.shape)\n",
    "print('테스트 크기:', test.shape) # test 정답 데이터 x (-1)"
   ]
  },
  {
   "cell_type": "code",
   "execution_count": 18,
   "id": "9e5f88b6",
   "metadata": {
    "scrolled": true
   },
   "outputs": [
    {
     "name": "stdout",
     "output_type": "stream",
     "text": [
      "Index(['Survived', 'Pclass', 'Name', 'Sex', 'Age', 'SibSp', 'Parch', 'Ticket',\n",
      "       'Fare', 'Cabin', 'Embarked'],\n",
      "      dtype='object')\n",
      "Index(['Pclass', 'Name', 'Sex', 'Age', 'SibSp', 'Parch', 'Ticket', 'Fare',\n",
      "       'Cabin', 'Embarked'],\n",
      "      dtype='object')\n"
     ]
    }
   ],
   "source": [
    "# 컬럼명만 뽑아서 확인하기\n",
    "print(train.columns)\n",
    "print(test.columns)\n",
    "\n",
    "# 컬럼의 순서도 중요함\n",
    "# 컬럼의 명도 동일해야 함"
   ]
  },
  {
   "cell_type": "markdown",
   "id": "2aec92ed",
   "metadata": {},
   "source": [
    "### 데이터 전처리 및 데이터 탐색\n",
    "#### 결측치 확인\n"
   ]
  },
  {
   "cell_type": "code",
   "execution_count": 25,
   "id": "1b4b4d17",
   "metadata": {},
   "outputs": [
    {
     "name": "stdout",
     "output_type": "stream",
     "text": [
      "<class 'pandas.core.frame.DataFrame'>\n",
      "Int64Index: 891 entries, 1 to 891\n",
      "Data columns (total 11 columns):\n",
      " #   Column    Non-Null Count  Dtype  \n",
      "---  ------    --------------  -----  \n",
      " 0   Survived  891 non-null    int64  \n",
      " 1   Pclass    891 non-null    int64  \n",
      " 2   Name      891 non-null    object \n",
      " 3   Sex       891 non-null    object \n",
      " 4   Age       714 non-null    float64\n",
      " 5   SibSp     891 non-null    int64  \n",
      " 6   Parch     891 non-null    int64  \n",
      " 7   Ticket    891 non-null    object \n",
      " 8   Fare      891 non-null    float64\n",
      " 9   Cabin     204 non-null    object \n",
      " 10  Embarked  889 non-null    object \n",
      "dtypes: float64(2), int64(4), object(5)\n",
      "memory usage: 83.5+ KB\n"
     ]
    }
   ],
   "source": [
    "# info 함수 통해서 train 결측치 확인\n",
    "train.info()\n",
    "# 결측치 존재 컬럼 Age, Cabin, Embarked"
   ]
  },
  {
   "cell_type": "code",
   "execution_count": 26,
   "id": "1372c1f9",
   "metadata": {},
   "outputs": [
    {
     "name": "stdout",
     "output_type": "stream",
     "text": [
      "<class 'pandas.core.frame.DataFrame'>\n",
      "Int64Index: 418 entries, 892 to 1309\n",
      "Data columns (total 10 columns):\n",
      " #   Column    Non-Null Count  Dtype  \n",
      "---  ------    --------------  -----  \n",
      " 0   Pclass    418 non-null    int64  \n",
      " 1   Name      418 non-null    object \n",
      " 2   Sex       418 non-null    object \n",
      " 3   Age       332 non-null    float64\n",
      " 4   SibSp     418 non-null    int64  \n",
      " 5   Parch     418 non-null    int64  \n",
      " 6   Ticket    418 non-null    object \n",
      " 7   Fare      417 non-null    float64\n",
      " 8   Cabin     91 non-null     object \n",
      " 9   Embarked  418 non-null    object \n",
      "dtypes: float64(2), int64(3), object(5)\n",
      "memory usage: 35.9+ KB\n"
     ]
    }
   ],
   "source": [
    "# info 함수 통해서 test 결측치 확인\n",
    "test.info()\n",
    "# 결측치 존재 컬럼 Age, Cabin"
   ]
  },
  {
   "cell_type": "code",
   "execution_count": 28,
   "id": "4d9d93da",
   "metadata": {
    "scrolled": true
   },
   "outputs": [
    {
     "data": {
      "text/plain": [
       "Pclass        0\n",
       "Name          0\n",
       "Sex           0\n",
       "Age          86\n",
       "SibSp         0\n",
       "Parch         0\n",
       "Ticket        0\n",
       "Fare          1\n",
       "Cabin       327\n",
       "Embarked      0\n",
       "dtype: int64"
      ]
     },
     "execution_count": 28,
     "metadata": {},
     "output_type": "execute_result"
    }
   ],
   "source": [
    "# pandas 함수 통해서 test 결측치 확인\n",
    "# 데이터 자리에 결측치가 있니? -> 데이터.isnull()\n",
    "test.isnull().sum()\n",
    "# 결측치 존재 컬럼 : Age, Cabin, Fare\n",
    "# 결측치(행)를 삭제하기 보다 채우면서 처리해보겠음"
   ]
  },
  {
   "cell_type": "markdown",
   "id": "0145842f",
   "metadata": {},
   "source": [
    "#### train-Embarked 결측치 처리\n",
    "    - 승객이 탑승한 항구 이름\n",
    "    "
   ]
  },
  {
   "cell_type": "code",
   "execution_count": 32,
   "id": "ea36a4dc",
   "metadata": {},
   "outputs": [
    {
     "data": {
      "text/plain": [
       "S    644\n",
       "C    168\n",
       "Q     77\n",
       "Name: Embarked, dtype: int64"
      ]
     },
     "execution_count": 32,
     "metadata": {},
     "output_type": "execute_result"
    }
   ],
   "source": [
    "# train 데이터 기준으로 Embarked 컬럼 확인\n",
    "# nan 결측치\n",
    "train['Embarked'].unique()\n",
    "\n",
    "# 빈도수가 높은 승선항 알파벳으로 결측치를 처리해보자\n",
    "train['Embarked'].value_counts() # 대문자S 644로 채워보자!"
   ]
  },
  {
   "cell_type": "code",
   "execution_count": null,
   "id": "9524045e",
   "metadata": {},
   "outputs": [],
   "source": [
    "# test 안보나요?\n",
    "# 탐색용 데이터는 train , \n",
    "# 모델 학습 : 모델이 학습을 잘하도록 데이터를 세팅\n",
    "# test 데이터는 모델을 일반화시키는데 도움이 되지 않음\n",
    "# train 데이터가 학습할 때 사용되고 모델의 일반화에 도움을 줌"
   ]
  },
  {
   "cell_type": "code",
   "execution_count": 36,
   "id": "51bcd16d",
   "metadata": {},
   "outputs": [
    {
     "data": {
      "text/plain": [
       "S    646\n",
       "C    168\n",
       "Q     77\n",
       "Name: Embarked, dtype: int64"
      ]
     },
     "execution_count": 36,
     "metadata": {},
     "output_type": "execute_result"
    }
   ],
   "source": [
    "# Embarked 결측치를 'S'로 채우기\n",
    "# fillna(채울값)\n",
    "train['Embarked'] = train['Embarked'].fillna('S')\n",
    "train['Embarked'].unique()\n",
    "train['Embarked'].value_counts()"
   ]
  },
  {
   "cell_type": "code",
   "execution_count": null,
   "id": "1aa6550c",
   "metadata": {},
   "outputs": [],
   "source": [
    "# 추가) Embarked 컬럼에 결측치가 있던 행의 정보를 확인하고\n",
    "# 비슷한 사람의 데이터가 있다면 그 사람의 승선항 정보를 대체값으로 활용"
   ]
  },
  {
   "cell_type": "markdown",
   "id": "7e799f91",
   "metadata": {},
   "source": [
    "#### test - Fare 결측치 처리\n",
    "     - 요금 평균, 중앙값 계산 가능\n",
    "     - 데이터 분석을 진행하면서 관련이 있을 법한 컬럼을 연관지어서 대체값을 확인해보자 "
   ]
  },
  {
   "cell_type": "code",
   "execution_count": 39,
   "id": "b1c78515",
   "metadata": {},
   "outputs": [
    {
     "data": {
      "text/plain": [
       "count    891.000000\n",
       "mean      32.204208\n",
       "std       49.693429\n",
       "min        0.000000\n",
       "25%        7.910400\n",
       "50%       14.454200\n",
       "75%       31.000000\n",
       "max      512.329200\n",
       "Name: Fare, dtype: float64"
      ]
     },
     "execution_count": 39,
     "metadata": {},
     "output_type": "execute_result"
    }
   ],
   "source": [
    "# train 기준으로 데이터 탐색\n",
    "# Fare 컬럼 정보 확인 -> 기술통계량\n",
    "train['Fare'].describe()\n",
    "# 요금의 대표값으로 평균보다 중앙이 더 나을 수 있겠음"
   ]
  },
  {
   "cell_type": "code",
   "execution_count": 42,
   "id": "c4b81a23",
   "metadata": {},
   "outputs": [
    {
     "name": "stderr",
     "output_type": "stream",
     "text": [
      "C:\\Users\\gjaischool\\AppData\\Local\\Temp\\ipykernel_20052\\2439257001.py:6: FutureWarning: The default value of numeric_only in DataFrame.corr is deprecated. In a future version, it will default to False. Select only valid columns or specify the value of numeric_only to silence this warning.\n",
      "  train.corr()['Survived'].abs()\n"
     ]
    },
    {
     "data": {
      "text/plain": [
       "Survived    1.000000\n",
       "Pclass      0.338481\n",
       "Age         0.077221\n",
       "SibSp       0.035322\n",
       "Parch       0.081629\n",
       "Fare        0.257307\n",
       "Name: Survived, dtype: float64"
      ]
     },
     "execution_count": 42,
     "metadata": {},
     "output_type": "execute_result"
    }
   ],
   "source": [
    "# 변수(특성) 간의 상관관계 확인\n",
    "# 상관계수(숫자) : -1 ~ 1\n",
    "# 각 컬럼의 상관 정도를 수치로 표현한 값 : 상관계수\n",
    "# -1, 1에 가까울수록 변수간의 관계성이 있음\n",
    "# 0에 가까울수록 변수간의 관계성이 적음\n",
    "# 생존 사망과 연관이 있는 컬럼 확인해보기\n",
    "train.corr()['Survived'].abs() \n",
    "# Pclass가 생존/사망 연관성이 있을 수 있겠다\n",
    "# 등급에 따라 요금의 중앙값으로 채워주는 것도 의미가 있지 않을까? "
   ]
  },
  {
   "cell_type": "code",
   "execution_count": 85,
   "id": "2c2e39b0",
   "metadata": {
    "scrolled": true
   },
   "outputs": [
    {
     "data": {
      "text/html": [
       "<div>\n",
       "<style scoped>\n",
       "    .dataframe tbody tr th:only-of-type {\n",
       "        vertical-align: middle;\n",
       "    }\n",
       "\n",
       "    .dataframe tbody tr th {\n",
       "        vertical-align: top;\n",
       "    }\n",
       "\n",
       "    .dataframe thead th {\n",
       "        text-align: right;\n",
       "    }\n",
       "</style>\n",
       "<table border=\"1\" class=\"dataframe\">\n",
       "  <thead>\n",
       "    <tr style=\"text-align: right;\">\n",
       "      <th></th>\n",
       "      <th>Fare</th>\n",
       "    </tr>\n",
       "    <tr>\n",
       "      <th>Pclass</th>\n",
       "      <th></th>\n",
       "    </tr>\n",
       "  </thead>\n",
       "  <tbody>\n",
       "    <tr>\n",
       "      <th>1</th>\n",
       "      <td>60.2875</td>\n",
       "    </tr>\n",
       "    <tr>\n",
       "      <th>2</th>\n",
       "      <td>14.2500</td>\n",
       "    </tr>\n",
       "    <tr>\n",
       "      <th>3</th>\n",
       "      <td>8.0500</td>\n",
       "    </tr>\n",
       "  </tbody>\n",
       "</table>\n",
       "</div>"
      ],
      "text/plain": [
       "           Fare\n",
       "Pclass         \n",
       "1       60.2875\n",
       "2       14.2500\n",
       "3        8.0500"
      ]
     },
     "execution_count": 85,
     "metadata": {},
     "output_type": "execute_result"
    }
   ],
   "source": [
    "# 1. Pclass, Fare 두 개 컬럼만 인덱싱 해보기\n",
    "# 2. Pclass 1,2,3 등급끼리 묶기(그룹화하기)\n",
    "# 3. median() 집계함수 연결\n",
    "# * 집계함수(count(), mean(), min(), max(), median())\n",
    "train[['Pclass','Fare']].groupby('Pclass').median()"
   ]
  }
 ],
 "metadata": {
  "kernelspec": {
   "display_name": "Python 3 (ipykernel)",
   "language": "python",
   "name": "python3"
  },
  "language_info": {
   "codemirror_mode": {
    "name": "ipython",
    "version": 3
   },
   "file_extension": ".py",
   "mimetype": "text/x-python",
   "name": "python",
   "nbconvert_exporter": "python",
   "pygments_lexer": "ipython3",
   "version": "3.10.9"
  }
 },
 "nbformat": 4,
 "nbformat_minor": 5
}
