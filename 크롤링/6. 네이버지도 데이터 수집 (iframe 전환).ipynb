{
 "cells": [
  {
   "cell_type": "code",
   "execution_count": 1,
   "id": "b497f84f",
   "metadata": {},
   "outputs": [],
   "source": [
    "from selenium import webdriver as wb\n",
    "from selenium.webdriver.common.by import By\n",
    "import time\n",
    "from selenium.webdriver.common.keys import Keys"
   ]
  },
  {
   "cell_type": "code",
   "execution_count": 41,
   "id": "5141a380",
   "metadata": {},
   "outputs": [],
   "source": [
    "# 1. 크롬드라이버를 실행해서 네이버지도 사이트로 이동\n",
    "driver = wb.Chrome()\n",
    "driver.get(\"https://map.naver.com/p/\")"
   ]
  },
  {
   "cell_type": "code",
   "execution_count": 42,
   "id": "4d372f13",
   "metadata": {},
   "outputs": [],
   "source": [
    "# 2. 검색창에 검색어를 입력\n",
    "# 검색창의 구분자인 id 값이 실행 할 때마다 변한다.\n",
    "# 이런 경우에는 다른 선택자를 활용을 해야한다.\n",
    "search = driver.find_element(By.CSS_SELECTOR,\".input_search\")\n",
    "search.send_keys(\"동명동 회식\")\n",
    "search.send_keys(Keys.ENTER)"
   ]
  },
  {
   "cell_type": "code",
   "execution_count": 36,
   "id": "8f6bbd82",
   "metadata": {
    "collapsed": true
   },
   "outputs": [
    {
     "ename": "IndexError",
     "evalue": "list index out of range",
     "output_type": "error",
     "traceback": [
      "\u001b[1;31m---------------------------------------------------------------------------\u001b[0m",
      "\u001b[1;31mIndexError\u001b[0m                                Traceback (most recent call last)",
      "Cell \u001b[1;32mIn[36], line 6\u001b[0m\n\u001b[0;32m      1\u001b[0m \u001b[38;5;66;03m# 미미원을 클릭해서 세부정보를 조회\u001b[39;00m\n\u001b[0;32m      2\u001b[0m \u001b[38;5;66;03m# 화면상에 데이터가 출력은 되는데 조작이 안될 때는 iframe을 검사해라\u001b[39;00m\n\u001b[0;32m      3\u001b[0m \u001b[38;5;66;03m# 1. req는 iframe src를 찾아가서 거기서 데이터 수집을 함\u001b[39;00m\n\u001b[0;32m      4\u001b[0m \u001b[38;5;66;03m# 2. selenium에서는 현재 컴퓨터가 바라보고 있는 html창을 변경\u001b[39;00m\n\u001b[0;32m      5\u001b[0m title \u001b[38;5;241m=\u001b[39m driver\u001b[38;5;241m.\u001b[39mfind_elements(By\u001b[38;5;241m.\u001b[39mCSS_SELECTOR,\u001b[38;5;124m\"\u001b[39m\u001b[38;5;124m.place_bluelink.YwYLL\u001b[39m\u001b[38;5;124m\"\u001b[39m)\n\u001b[1;32m----> 6\u001b[0m \u001b[43mtitle\u001b[49m\u001b[43m[\u001b[49m\u001b[38;5;241;43m0\u001b[39;49m\u001b[43m]\u001b[49m\u001b[38;5;241m.\u001b[39mclick()\n",
      "\u001b[1;31mIndexError\u001b[0m: list index out of range"
     ]
    }
   ],
   "source": [
    "# 미미원을 클릭해서 세부정보를 조회\n",
    "# 화면상에 데이터가 출력은 되는데 조작이 안될 때는 iframe을 검사해라\n",
    "# 1. req는 iframe src를 찾아가서 거기서 데이터 수집을 함\n",
    "# 2. selenium에서는 현재 컴퓨터가 바라보고 있는 html창을 변경\n",
    "title = driver.find_elements(By.CSS_SELECTOR,\".place_bluelink.YwYLL\")\n",
    "title[0].click()"
   ]
  },
  {
   "cell_type": "code",
   "execution_count": 43,
   "id": "eed5c7b0",
   "metadata": {},
   "outputs": [],
   "source": [
    "# 컴퓨터에게 바라보고 있는 창은 원하는 iframe으로 변경\n",
    "# frame을 변경할 때는 switch_to.frame(\"iframe의 id\")\n",
    "driver.switch_to.frame(\"searchIframe\")"
   ]
  },
  {
   "cell_type": "code",
   "execution_count": 44,
   "id": "a92053c1",
   "metadata": {},
   "outputs": [],
   "source": [
    "title = driver.find_elements(By.CSS_SELECTOR,\".place_bluelink.YwYLL\")\n",
    "title[0].click()"
   ]
  },
  {
   "cell_type": "code",
   "execution_count": 45,
   "id": "ecf095ab",
   "metadata": {},
   "outputs": [],
   "source": [
    "# 상세정보에서 가게이름정보 수집\n",
    "name = driver.find_elements(By.CSS_SELECTOR,\".Fc1rA\")"
   ]
  },
  {
   "cell_type": "code",
   "execution_count": 46,
   "id": "dcb4ccf4",
   "metadata": {},
   "outputs": [],
   "source": [
    "# 상세정보 iframe으로 화면을 이동\n",
    "# 주의점!\n",
    "# iframe에서 다른 iframe으로 바로 이동이 불가능\n",
    "# 원본 데이터로 이동 -> 다른 iframe으로 이동\n",
    "driver.switch_to.default_content()"
   ]
  },
  {
   "cell_type": "code",
   "execution_count": 47,
   "id": "c5ff75dc",
   "metadata": {},
   "outputs": [],
   "source": [
    "# 상세정보 iframe으로 이동\n",
    "driver.switch_to.frame('entryIframe')"
   ]
  },
  {
   "cell_type": "code",
   "execution_count": 49,
   "id": "822d5e90",
   "metadata": {},
   "outputs": [
    {
     "data": {
      "text/plain": [
       "'미미원'"
      ]
     },
     "execution_count": 49,
     "metadata": {},
     "output_type": "execute_result"
    }
   ],
   "source": [
    "name = driver.find_element(By.CSS_SELECTOR,\".Fc1rA\")\n",
    "name.text"
   ]
  },
  {
   "cell_type": "code",
   "execution_count": 70,
   "id": "1a579ad0",
   "metadata": {},
   "outputs": [
    {
     "data": {
      "text/plain": [
       "'황톳길'"
      ]
     },
     "execution_count": 70,
     "metadata": {},
     "output_type": "execute_result"
    }
   ],
   "source": [
    "# 황톳길 (검색내용 2번째) 클릭 -> 가게이름 수집\n",
    "# 원본데이터 -> 검색프레임 -> 2번째가게 클릭\n",
    "# -> 원본데이터 -> 상세정보프레임 -> 데이터수집\n",
    "driver.switch_to.default_content()\n",
    "driver.switch_to.frame('searchIframe')\n",
    "time.sleep(1)\n",
    "title = driver.find_elements(By.CSS_SELECTOR,\".place_bluelink.YwYLL\")\n",
    "title[1].click()\n",
    "time.sleep(3)\n",
    "driver.switch_to.default_content()\n",
    "driver.switch_to.frame('entryIframe')\n",
    "time.sleep(1)\n",
    "name = driver.find_element(By.CSS_SELECTOR,\".Fc1rA\")\n",
    "name.text"
   ]
  }
 ],
 "metadata": {
  "kernelspec": {
   "display_name": "Python 3 (ipykernel)",
   "language": "python",
   "name": "python3"
  },
  "language_info": {
   "codemirror_mode": {
    "name": "ipython",
    "version": 3
   },
   "file_extension": ".py",
   "mimetype": "text/x-python",
   "name": "python",
   "nbconvert_exporter": "python",
   "pygments_lexer": "ipython3",
   "version": "3.10.9"
  }
 },
 "nbformat": 4,
 "nbformat_minor": 5
}
