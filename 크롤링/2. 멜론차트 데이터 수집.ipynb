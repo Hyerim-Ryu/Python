{
 "cells": [
  {
   "cell_type": "code",
   "execution_count": 13,
   "id": "90597e66",
   "metadata": {},
   "outputs": [],
   "source": [
    "import requests as req\n",
    "from bs4 import BeautifulSoup as bs"
   ]
  },
  {
   "cell_type": "code",
   "execution_count": 14,
   "id": "8a084c07",
   "metadata": {},
   "outputs": [],
   "source": [
    "# 1. request를 통해서 멜론차트 정보를 요청"
   ]
  },
  {
   "cell_type": "code",
   "execution_count": 15,
   "id": "25fff479",
   "metadata": {},
   "outputs": [],
   "source": [
    "head = {'User-Agent': \n",
    "    'Mozilla/5.0 (Windows NT 10.0; Win64; x64) AppleWebKit/537.36 (KHTML, like Gecko) Chrome/116.0.0.0 Safari/537.36'}"
   ]
  },
  {
   "cell_type": "code",
   "execution_count": 16,
   "id": "0d324bd0",
   "metadata": {},
   "outputs": [],
   "source": [
    "res = req.get(\"https://www.melon.com/chart/index.htm\", headers = head)"
   ]
  },
  {
   "cell_type": "code",
   "execution_count": 25,
   "id": "d34d6b1c",
   "metadata": {},
   "outputs": [],
   "source": [
    "# 태그 정보를 사용하기 위해 문자열 데이터를 html 데이터로 변형\n",
    "# 2. bs를 통해서 html 데이터로 변형\n",
    "soup = bs(res.text, \"lxml\")"
   ]
  },
  {
   "cell_type": "code",
   "execution_count": 37,
   "id": "7540c707",
   "metadata": {},
   "outputs": [],
   "source": [
    "# 3. 노래정보 수집\n",
    "# 클래스값 중간에 공백이 있다는건 -> 클래스가 복수개다\n",
    "# 공백을 지우고 반드시 . 으로 이어준다!\n",
    "# ellipsis.rank01\n",
    "song = soup.select(\"div.ellipsis.rank01 > span > a\")"
   ]
  },
  {
   "cell_type": "code",
   "execution_count": 38,
   "id": "eba0224e",
   "metadata": {
    "collapsed": true
   },
   "outputs": [
    {
     "name": "stdout",
     "output_type": "stream",
     "text": [
      "Seven (feat. Latto) - Clean Ver.\n",
      "Super Shy\n",
      "ETA\n",
      "헤어지자 말해요\n",
      "퀸카 (Queencard)\n",
      "I AM\n",
      "모래 알갱이\n",
      "사막에서 꽃을 피우듯\n",
      "Steal The Show (From “엘리멘탈”)\n",
      "사랑은 늘 도망가\n",
      "Fast Forward\n",
      "Spicy\n",
      "우리들의 블루스\n",
      "이브, 프시케 그리고 푸른 수염의 아내\n",
      "New Jeans\n",
      "다시 만날 수 있을까\n",
      "Still With You\n",
      "Hype boy\n",
      "무지개\n",
      "이제 나만 믿어요\n",
      "Kitsch\n",
      "London Boy\n",
      "아버지\n",
      "Polaroid\n",
      "UNFORGIVEN (feat. Nile Rodgers)\n",
      "Ditto\n",
      "인생찬가\n",
      "A bientot\n",
      "손이 참 곱던 그대\n",
      "Love Lee\n",
      "Summer (Feat. BE’O (비오))\n",
      "사랑해 진짜\n",
      "연애편지\n",
      "Cool With You\n",
      "Dynamite\n",
      "Attention\n",
      "손오공\n",
      "보금자리\n",
      "OMG\n",
      "Love Me Again\n",
      "Take Two\n",
      "사건의 지평선\n",
      "After LIKE\n",
      "CAKE\n",
      "I Don't Think That I Like Her\n",
      "꽃\n",
      "LOVE DIVE\n",
      "Bubble\n",
      "봄날\n",
      "KIDDING\n",
      "파이팅 해야지 (Feat. 이영지)\n",
      "후라이의 꿈\n",
      "Like Crazy\n",
      "Dangerously\n",
      "Butter\n",
      "Dreamers [Music from the FIFA World Cup Qatar 2022 Official Soundtrack] (Feat. FIFA Sound)\n",
      "ISTJ\n",
      "Teddy Bear\n",
      "사람 Pt.2 (feat. 아이유)\n",
      "심(心)\n",
      "사랑하지 않아서 그랬어\n",
      "너의 모든 순간\n",
      "나에게 그대만이\n",
      "Candy\n",
      "사랑인가 봐\n",
      "여름이 들려 (Summer Comes)\n",
      "Rainy Days\n",
      "물론\n",
      "잠깐 시간 될까\n",
      "사실말야내가말야그게그러니까말이야\n",
      "Cupid\n",
      "Permission to Dance\n",
      "ANTIFRAGILE\n",
      "건물 사이에 피어난 장미 (Rose Blossom)\n",
      "그중에 그대를 만나\n",
      "ASAP\n",
      "on the street (with J. Cole)\n",
      "Allergy\n",
      "민들레 (single ver.)\n",
      "첫 키스에 내 심장은 120BPM\n",
      "사랑..그게 뭔데\n",
      "사랑의 바보\n",
      "STAY\n",
      "취중고백\n",
      "Broken Melodies\n",
      "잘 지내자, 우리 (여름날 우리 X 로이킴)\n",
      "I WANT\n",
      "미친 사랑의 노래\n",
      "해요 (2022)\n",
      "LOCKDOWN\n",
      "다정히 내 이름을 부르면\n",
      "In Bloom\n",
      "That's Hilarious\n",
      "TOMBOY\n",
      "Yogurt Shake\n",
      "Heaven(2023)\n",
      "당신을 만나\n",
      "That’s Not How This Works (feat. Dan + Shay)\n",
      "빛이 나는 너에게\n",
      "Another World\n"
     ]
    }
   ],
   "source": [
    "for i in song :\n",
    "    print(i.text)"
   ]
  },
  {
   "cell_type": "code",
   "execution_count": 49,
   "id": "09d8b0a0",
   "metadata": {},
   "outputs": [],
   "source": [
    "# 4. 가수이름 수집\n",
    "singer = soup.select(\"div.ellipsis.rank02 > span.checkEllipsis\")"
   ]
  },
  {
   "cell_type": "code",
   "execution_count": 50,
   "id": "5a168436",
   "metadata": {
    "collapsed": true
   },
   "outputs": [
    {
     "name": "stdout",
     "output_type": "stream",
     "text": [
      "정국\n",
      "NewJeans\n",
      "NewJeans\n",
      "박재정\n",
      "(여자)아이들\n",
      "IVE (아이브)\n",
      "임영웅\n",
      "우디 (Woody)\n",
      "Lauv\n",
      "임영웅\n",
      "전소미\n",
      "aespa\n",
      "임영웅\n",
      "LE SSERAFIM (르세라핌)\n",
      "NewJeans\n",
      "임영웅\n",
      "정국\n",
      "NewJeans\n",
      "임영웅\n",
      "임영웅\n",
      "IVE (아이브)\n",
      "임영웅\n",
      "임영웅\n",
      "임영웅\n",
      "LE SSERAFIM (르세라핌)\n",
      "NewJeans\n",
      "임영웅\n",
      "임영웅\n",
      "임영웅\n",
      "AKMU (악뮤)\n",
      "Paul Blanco\n",
      "임영웅\n",
      "임영웅\n",
      "NewJeans\n",
      "방탄소년단\n",
      "NewJeans\n",
      "세븐틴 (SEVENTEEN)\n",
      "임영웅\n",
      "NewJeans\n",
      "V\n",
      "방탄소년단\n",
      "윤하 (YOUNHA)\n",
      "IVE (아이브)\n",
      "ITZY (있지)\n",
      "Charlie Puth\n",
      "지수 (JISOO)\n",
      "IVE (아이브)\n",
      "STAYC(스테이씨)\n",
      "방탄소년단\n",
      "이세계아이돌\n",
      "부석순 (SEVENTEEN)\n",
      "AKMU (악뮤)\n",
      "지민\n",
      "Charlie Puth\n",
      "방탄소년단\n",
      "정국, 방탄소년단\n",
      "NCT DREAM\n",
      "STAYC(스테이씨)\n",
      "Agust D\n",
      "DK(디셈버)\n",
      "임한별\n",
      "성시경\n",
      "탑현\n",
      "NCT DREAM\n",
      "멜로망스\n",
      "오마이걸 (OH MY GIRL)\n",
      "V\n",
      "허각\n",
      "이무진\n",
      "케이시 (Kassy)\n",
      "FIFTY FIFTY\n",
      "방탄소년단\n",
      "LE SSERAFIM (르세라핌)\n",
      "H1-KEY (하이키)\n",
      "김호중\n",
      "NewJeans\n",
      "j-hope, J. Cole\n",
      "(여자)아이들\n",
      "우효\n",
      "경서\n",
      "지아\n",
      "제이세라\n",
      "The Kid LAROI, Justin Bieber\n",
      "김민석 (멜로망스)\n",
      "NCT DREAM\n",
      "로이킴\n",
      "IVE (아이브)\n",
      "김연지, DK(디셈버)\n",
      "#안녕\n",
      "이세계아이돌\n",
      "경서예지, 전건호\n",
      "ZEROBASEONE (제로베이스원)\n",
      "Charlie Puth\n",
      "(여자)아이들\n",
      "NCT DREAM\n",
      "임재현\n",
      "김호중, 송가인\n",
      "Charlie Puth\n",
      "던 (DAWN)\n",
      "이세계아이돌\n"
     ]
    }
   ],
   "source": [
    "for i in singer :\n",
    "    print(i.text)"
   ]
  },
  {
   "cell_type": "code",
   "execution_count": null,
   "id": "22b68f62",
   "metadata": {},
   "outputs": [],
   "source": [
    "# 데이터의 개수가 정해진 경우에는\n",
    "# 반드시 데이터 검증이 필요하다. (데이터의 길이, 데이터의 중복여부)\n",
    "len(singer)"
   ]
  },
  {
   "cell_type": "code",
   "execution_count": 53,
   "id": "e3f905d9",
   "metadata": {},
   "outputs": [],
   "source": [
    "# 5. 수집된 데이터를 텍스트 정보만 추출해서 저장\n",
    "song_list = []\n",
    "singer_list = []\n",
    "for i in range(len(song)) :\n",
    "    song_list.append(song[i].text)\n",
    "    singer_list.append(singer[i].text)"
   ]
  },
  {
   "cell_type": "code",
   "execution_count": 56,
   "id": "616e783f",
   "metadata": {},
   "outputs": [],
   "source": [
    "# 6. 표를 제작\n",
    "import pandas as pd"
   ]
  },
  {
   "cell_type": "code",
   "execution_count": 58,
   "id": "7a52e359",
   "metadata": {},
   "outputs": [],
   "source": [
    "dic = { '가수이름' : singer_list ,  '노래제목' : song_list}"
   ]
  },
  {
   "cell_type": "code",
   "execution_count": 60,
   "id": "3edf99d3",
   "metadata": {},
   "outputs": [],
   "source": [
    "melon = pd.DataFrame(dic)"
   ]
  },
  {
   "cell_type": "code",
   "execution_count": 62,
   "id": "df79d4ce",
   "metadata": {},
   "outputs": [],
   "source": [
    "# 7. 파일로 제작\n",
    "# 인코딩 작업\n",
    "# 한글이 깨지지 않게 반드시 해줘야한다!\n",
    "# 1. utf-8\n",
    "# 2. euc-kr\n",
    "# 3. utf-8-sig\n",
    "melon.to_csv(\"멜론차트.csv\", encoding='euc-kr')"
   ]
  },
  {
   "cell_type": "code",
   "execution_count": 63,
   "id": "172acb23",
   "metadata": {},
   "outputs": [],
   "source": [
    "melon.to_html(\"멜론차트.html\", encoding='euc-kr')"
   ]
  }
 ],
 "metadata": {
  "kernelspec": {
   "display_name": "Python 3 (ipykernel)",
   "language": "python",
   "name": "python3"
  },
  "language_info": {
   "codemirror_mode": {
    "name": "ipython",
    "version": 3
   },
   "file_extension": ".py",
   "mimetype": "text/x-python",
   "name": "python",
   "nbconvert_exporter": "python",
   "pygments_lexer": "ipython3",
   "version": "3.10.9"
  }
 },
 "nbformat": 4,
 "nbformat_minor": 5
}
