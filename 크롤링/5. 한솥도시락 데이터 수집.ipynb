{
 "cells": [
  {
   "cell_type": "code",
   "execution_count": 39,
   "id": "0d98b5a4",
   "metadata": {},
   "outputs": [],
   "source": [
    "from selenium import webdriver as wb\n",
    "from selenium.webdriver.common.by import By\n",
    "from selenium.webdriver.common.keys import Keys"
   ]
  },
  {
   "cell_type": "code",
   "execution_count": 54,
   "id": "bd8868e1",
   "metadata": {},
   "outputs": [],
   "source": [
    "# 1. 브라우저를 실행하고 -> 한솥사이트로 이동\n",
    "driver = wb.Chrome()\n",
    "driver.get(\"https://www.hsd.co.kr/menu/menu_list\")"
   ]
  },
  {
   "cell_type": "code",
   "execution_count": 41,
   "id": "ea95cff3",
   "metadata": {
    "scrolled": true
   },
   "outputs": [
    {
     "name": "stdout",
     "output_type": "stream",
     "text": [
      "오리 영양도시락\n",
      "통살 오징어튀김\n",
      "열무 감초고추장 비빔밥\n",
      "열무 두부강된장 비빔밥\n",
      "[8월할인메뉴] 토네이도 소세지\n",
      "[8월할인메뉴] 토핑-계란후라이\n",
      "[8월할인메뉴] 치킨2조각\n",
      "[8월할인메뉴] 토핑-스팸\n",
      "[8월할인메뉴] 빅치킨마요\n",
      "[8월할인메뉴] 치킨마요\n",
      "[8월할인메뉴] 카츠카츠 도시락\n",
      "[8월할인메뉴] 핫 치즈 닭갈비 덮밥\n",
      "[8월할인메뉴] 오리지널 치즈 닭갈비 덮밥\n",
      "[8월할인메뉴] 돈까스도련님 고기고기\n",
      "[8월행사메뉴] 숯불직화구이 덮밥\n",
      "[8월할인메뉴] 진달래\n",
      "[8월할인메뉴] 통현미 닭강정(소)\n",
      "[8월할인메뉴] 스팸 김치볶음밥\n",
      "해바라기\n",
      "매화\n",
      "진달래\n",
      "개나리\n",
      "돈까스도련님고기고기\n",
      "탕수육도련님고기고기\n",
      "새치 고기고기\n",
      "돈치 고기고기\n",
      "카츠카츠 도시락\n",
      "숯불직화구이\n",
      "소불고기\n",
      "메가치킨제육\n",
      "칠리 찹쌀탕수육도련님\n",
      "동백\n",
      "치킨제육\n",
      "돈까스도련님\n",
      "제육볶음\n",
      "돈치스팸 도시락\n",
      "제육 김치찌개 정식\n",
      "제육 김치 부대찌개 정식\n",
      "돈치스팸 김치 부대찌개 정식\n",
      "빅치킨마요 김치 부대찌개 정식\n",
      "치킨마요 김치 부대찌개 정식\n",
      "빅치킨마요 김치찌개 정식\n",
      "치킨마요 김치찌개 정식\n",
      "새후마요\n",
      "메가스팸마요\n",
      "스팸마요\n",
      "메가치킨마요\n",
      "왕치킨마요\n",
      "빅치킨마요\n",
      "치킨마요\n",
      "참치마요\n",
      "돈치마요\n",
      "돈까스 카레\n",
      "스팸 김치볶음밥\n",
      "김치볶음밥\n",
      "스팸철판볶음밥\n",
      "소불고기 철판볶음밥\n",
      "나시고랭\n",
      "묵은지 김치찌개\n",
      "김치 부대찌개\n",
      "핫 치즈 닭갈비덮밥\n",
      "오리지널 치즈 닭갈비덮밥\n",
      "숯불직화구이 덮밥\n",
      "마파두부 덮밥\n",
      "왕카레돈까스덮밥\n",
      "새우돈까스 덮밥\n",
      "돈까스 덮밥\n",
      "아보카도 훈제 닭가슴살 명란 비빔밥\n",
      "아보카도 소불고기 명란 비빔밥\n",
      "소불고기 감초고추장 비빔밥\n",
      "시골제육 두부강된장 비빔밥\n",
      "참치야채 감초고추장\n",
      "튼튼도시락\n"
     ]
    }
   ],
   "source": [
    "# 2. 상품이름 수집\n",
    "title = driver.find_elements(By.CSS_SELECTOR, \".h.fz_03\")\n",
    "for i in title : \n",
    "    print(i.text)"
   ]
  },
  {
   "cell_type": "code",
   "execution_count": null,
   "id": "3213fec3",
   "metadata": {},
   "outputs": [],
   "source": [
    "# 3. 상품가격 수집\n",
    "price = driver.find_elements(By.CSS_SELECTOR, \"div > div.item-text > div > strong\")\n",
    "for i in price :\n",
    "    print(i.text)"
   ]
  },
  {
   "cell_type": "code",
   "execution_count": 42,
   "id": "74e83f12",
   "metadata": {},
   "outputs": [],
   "source": [
    "# 더보기 버튼 클릭\n",
    "# 더보기를 클릭해야 최신의 데이터를 받아 올 수 있다\n",
    "btn = driver.find_element(By.CSS_SELECTOR,\".c_05\")\n",
    "btn.click()"
   ]
  },
  {
   "cell_type": "code",
   "execution_count": 45,
   "id": "966b1660",
   "metadata": {
    "collapsed": true
   },
   "outputs": [
    {
     "ename": "ElementClickInterceptedException",
     "evalue": "Message: element click intercepted: Element <a href=\"#none\" class=\"c_05\" onclick=\"more();return false;\">...</a> is not clickable at point (646, 30). Other element would receive the click: <li class=\"dp1\">...</li>\n  (Session info: chrome=116.0.5845.111)\nStacktrace:\n\tGetHandleVerifier [0x00007FF7F6B252A2+57122]\n\t(No symbol) [0x00007FF7F6A9EA92]\n\t(No symbol) [0x00007FF7F696E3AB]\n\t(No symbol) [0x00007FF7F69AD783]\n\t(No symbol) [0x00007FF7F69ABD5F]\n\t(No symbol) [0x00007FF7F69A9DC8]\n\t(No symbol) [0x00007FF7F69A8FD5]\n\t(No symbol) [0x00007FF7F699F25F]\n\t(No symbol) [0x00007FF7F69C6FDA]\n\t(No symbol) [0x00007FF7F699EB76]\n\t(No symbol) [0x00007FF7F69C71F0]\n\t(No symbol) [0x00007FF7F69DEB82]\n\t(No symbol) [0x00007FF7F69C6DB3]\n\t(No symbol) [0x00007FF7F699D2B1]\n\t(No symbol) [0x00007FF7F699E494]\n\tGetHandleVerifier [0x00007FF7F6DCEF82+2849794]\n\tGetHandleVerifier [0x00007FF7F6E21D24+3189156]\n\tGetHandleVerifier [0x00007FF7F6E1ACAF+3160367]\n\tGetHandleVerifier [0x00007FF7F6BB6D06+653702]\n\t(No symbol) [0x00007FF7F6AAA208]\n\t(No symbol) [0x00007FF7F6AA62C4]\n\t(No symbol) [0x00007FF7F6AA63F6]\n\t(No symbol) [0x00007FF7F6A967A3]\n\tBaseThreadInitThunk [0x00007FFBE1FC26AD+29]\n\tRtlUserThreadStart [0x00007FFBE350AA68+40]\n",
     "output_type": "error",
     "traceback": [
      "\u001b[1;31m---------------------------------------------------------------------------\u001b[0m",
      "\u001b[1;31mElementClickInterceptedException\u001b[0m          Traceback (most recent call last)",
      "Cell \u001b[1;32mIn[45], line 4\u001b[0m\n\u001b[0;32m      2\u001b[0m \u001b[38;5;28;01mfor\u001b[39;00m i \u001b[38;5;129;01min\u001b[39;00m \u001b[38;5;28mrange\u001b[39m(\u001b[38;5;241m15\u001b[39m) :\n\u001b[0;32m      3\u001b[0m     btn \u001b[38;5;241m=\u001b[39m driver\u001b[38;5;241m.\u001b[39mfind_element(By\u001b[38;5;241m.\u001b[39mCSS_SELECTOR,\u001b[38;5;124m\"\u001b[39m\u001b[38;5;124m.c_05\u001b[39m\u001b[38;5;124m\"\u001b[39m)\n\u001b[1;32m----> 4\u001b[0m     \u001b[43mbtn\u001b[49m\u001b[38;5;241;43m.\u001b[39;49m\u001b[43mclick\u001b[49m\u001b[43m(\u001b[49m\u001b[43m)\u001b[49m\n",
      "File \u001b[1;32m~\\anaconda3\\lib\\site-packages\\selenium\\webdriver\\remote\\webelement.py:94\u001b[0m, in \u001b[0;36mWebElement.click\u001b[1;34m(self)\u001b[0m\n\u001b[0;32m     92\u001b[0m \u001b[38;5;28;01mdef\u001b[39;00m \u001b[38;5;21mclick\u001b[39m(\u001b[38;5;28mself\u001b[39m) \u001b[38;5;241m-\u001b[39m\u001b[38;5;241m>\u001b[39m \u001b[38;5;28;01mNone\u001b[39;00m:\n\u001b[0;32m     93\u001b[0m     \u001b[38;5;124;03m\"\"\"Clicks the element.\"\"\"\u001b[39;00m\n\u001b[1;32m---> 94\u001b[0m     \u001b[38;5;28;43mself\u001b[39;49m\u001b[38;5;241;43m.\u001b[39;49m\u001b[43m_execute\u001b[49m\u001b[43m(\u001b[49m\u001b[43mCommand\u001b[49m\u001b[38;5;241;43m.\u001b[39;49m\u001b[43mCLICK_ELEMENT\u001b[49m\u001b[43m)\u001b[49m\n",
      "File \u001b[1;32m~\\anaconda3\\lib\\site-packages\\selenium\\webdriver\\remote\\webelement.py:395\u001b[0m, in \u001b[0;36mWebElement._execute\u001b[1;34m(self, command, params)\u001b[0m\n\u001b[0;32m    393\u001b[0m     params \u001b[38;5;241m=\u001b[39m {}\n\u001b[0;32m    394\u001b[0m params[\u001b[38;5;124m\"\u001b[39m\u001b[38;5;124mid\u001b[39m\u001b[38;5;124m\"\u001b[39m] \u001b[38;5;241m=\u001b[39m \u001b[38;5;28mself\u001b[39m\u001b[38;5;241m.\u001b[39m_id\n\u001b[1;32m--> 395\u001b[0m \u001b[38;5;28;01mreturn\u001b[39;00m \u001b[38;5;28;43mself\u001b[39;49m\u001b[38;5;241;43m.\u001b[39;49m\u001b[43m_parent\u001b[49m\u001b[38;5;241;43m.\u001b[39;49m\u001b[43mexecute\u001b[49m\u001b[43m(\u001b[49m\u001b[43mcommand\u001b[49m\u001b[43m,\u001b[49m\u001b[43m \u001b[49m\u001b[43mparams\u001b[49m\u001b[43m)\u001b[49m\n",
      "File \u001b[1;32m~\\anaconda3\\lib\\site-packages\\selenium\\webdriver\\remote\\webdriver.py:345\u001b[0m, in \u001b[0;36mWebDriver.execute\u001b[1;34m(self, driver_command, params)\u001b[0m\n\u001b[0;32m    343\u001b[0m response \u001b[38;5;241m=\u001b[39m \u001b[38;5;28mself\u001b[39m\u001b[38;5;241m.\u001b[39mcommand_executor\u001b[38;5;241m.\u001b[39mexecute(driver_command, params)\n\u001b[0;32m    344\u001b[0m \u001b[38;5;28;01mif\u001b[39;00m response:\n\u001b[1;32m--> 345\u001b[0m     \u001b[38;5;28;43mself\u001b[39;49m\u001b[38;5;241;43m.\u001b[39;49m\u001b[43merror_handler\u001b[49m\u001b[38;5;241;43m.\u001b[39;49m\u001b[43mcheck_response\u001b[49m\u001b[43m(\u001b[49m\u001b[43mresponse\u001b[49m\u001b[43m)\u001b[49m\n\u001b[0;32m    346\u001b[0m     response[\u001b[38;5;124m\"\u001b[39m\u001b[38;5;124mvalue\u001b[39m\u001b[38;5;124m\"\u001b[39m] \u001b[38;5;241m=\u001b[39m \u001b[38;5;28mself\u001b[39m\u001b[38;5;241m.\u001b[39m_unwrap_value(response\u001b[38;5;241m.\u001b[39mget(\u001b[38;5;124m\"\u001b[39m\u001b[38;5;124mvalue\u001b[39m\u001b[38;5;124m\"\u001b[39m, \u001b[38;5;28;01mNone\u001b[39;00m))\n\u001b[0;32m    347\u001b[0m     \u001b[38;5;28;01mreturn\u001b[39;00m response\n",
      "File \u001b[1;32m~\\anaconda3\\lib\\site-packages\\selenium\\webdriver\\remote\\errorhandler.py:229\u001b[0m, in \u001b[0;36mErrorHandler.check_response\u001b[1;34m(self, response)\u001b[0m\n\u001b[0;32m    227\u001b[0m         alert_text \u001b[38;5;241m=\u001b[39m value[\u001b[38;5;124m\"\u001b[39m\u001b[38;5;124malert\u001b[39m\u001b[38;5;124m\"\u001b[39m]\u001b[38;5;241m.\u001b[39mget(\u001b[38;5;124m\"\u001b[39m\u001b[38;5;124mtext\u001b[39m\u001b[38;5;124m\"\u001b[39m)\n\u001b[0;32m    228\u001b[0m     \u001b[38;5;28;01mraise\u001b[39;00m exception_class(message, screen, stacktrace, alert_text)  \u001b[38;5;66;03m# type: ignore[call-arg]  # mypy is not smart enough here\u001b[39;00m\n\u001b[1;32m--> 229\u001b[0m \u001b[38;5;28;01mraise\u001b[39;00m exception_class(message, screen, stacktrace)\n",
      "\u001b[1;31mElementClickInterceptedException\u001b[0m: Message: element click intercepted: Element <a href=\"#none\" class=\"c_05\" onclick=\"more();return false;\">...</a> is not clickable at point (646, 30). Other element would receive the click: <li class=\"dp1\">...</li>\n  (Session info: chrome=116.0.5845.111)\nStacktrace:\n\tGetHandleVerifier [0x00007FF7F6B252A2+57122]\n\t(No symbol) [0x00007FF7F6A9EA92]\n\t(No symbol) [0x00007FF7F696E3AB]\n\t(No symbol) [0x00007FF7F69AD783]\n\t(No symbol) [0x00007FF7F69ABD5F]\n\t(No symbol) [0x00007FF7F69A9DC8]\n\t(No symbol) [0x00007FF7F69A8FD5]\n\t(No symbol) [0x00007FF7F699F25F]\n\t(No symbol) [0x00007FF7F69C6FDA]\n\t(No symbol) [0x00007FF7F699EB76]\n\t(No symbol) [0x00007FF7F69C71F0]\n\t(No symbol) [0x00007FF7F69DEB82]\n\t(No symbol) [0x00007FF7F69C6DB3]\n\t(No symbol) [0x00007FF7F699D2B1]\n\t(No symbol) [0x00007FF7F699E494]\n\tGetHandleVerifier [0x00007FF7F6DCEF82+2849794]\n\tGetHandleVerifier [0x00007FF7F6E21D24+3189156]\n\tGetHandleVerifier [0x00007FF7F6E1ACAF+3160367]\n\tGetHandleVerifier [0x00007FF7F6BB6D06+653702]\n\t(No symbol) [0x00007FF7F6AAA208]\n\t(No symbol) [0x00007FF7F6AA62C4]\n\t(No symbol) [0x00007FF7F6AA63F6]\n\t(No symbol) [0x00007FF7F6A967A3]\n\tBaseThreadInitThunk [0x00007FFBE1FC26AD+29]\n\tRtlUserThreadStart [0x00007FFBE350AA68+40]\n"
     ]
    }
   ],
   "source": [
    "# 더보기를 끝까지 반복\n",
    "for i in range(15) :\n",
    "    btn = driver.find_element(By.CSS_SELECTOR,\".c_05\")\n",
    "    btn.click()"
   ]
  },
  {
   "cell_type": "markdown",
   "id": "e5a72021",
   "metadata": {},
   "source": [
    "# 예외처리\n",
    "- 코드를 실행하다가 에러가 나는 경우 에러가 아닌 다른 코드를 실행\n",
    "- try = 에러가 나기 전까지 실행 할 코드\n",
    "- except = 에러가 났을 때 실행 할 코드"
   ]
  },
  {
   "cell_type": "code",
   "execution_count": 47,
   "id": "0c8bc9cc",
   "metadata": {},
   "outputs": [],
   "source": [
    "# Selenium 을 통해서 요청을 보낼 때는 반드시 사람답게 코드를짜자!\n",
    "# 컴퓨터는 요청을 매우 빠르게 처리하기 때문에\n",
    "# 클라이언트가 서버에게 무리한 요청을 하면\n",
    "# 서버는 부하를 느낀다. -> 아이피 차단, 반응 하기전에 오류가 난다.\n",
    "# time.sleep(\"초\") -> 해당하는 시간만큼 코드가 멈춘다.\n",
    "# 반드시 요청과 응답이 있는 경우에 사용하는걸 권장\n",
    "import time"
   ]
  },
  {
   "cell_type": "code",
   "execution_count": 55,
   "id": "5bf9f983",
   "metadata": {},
   "outputs": [
    {
     "name": "stdout",
     "output_type": "stream",
     "text": [
      "더보기가 없습니다\n"
     ]
    }
   ],
   "source": [
    "try :\n",
    "    # 에러가 나기 전까지 실행 할 코드\n",
    "    for i in range(15) :\n",
    "        btn = driver.find_element(By.CSS_SELECTOR,\".c_05\")\n",
    "        btn.click()\n",
    "        time.sleep(3)\n",
    "except :\n",
    "    # 에러가 났을 때 실행 할 코드\n",
    "    print(\"더보기가 없습니다\")"
   ]
  },
  {
   "cell_type": "code",
   "execution_count": 57,
   "id": "4579dfe8",
   "metadata": {},
   "outputs": [
    {
     "data": {
      "text/plain": [
       "111"
      ]
     },
     "execution_count": 57,
     "metadata": {},
     "output_type": "execute_result"
    }
   ],
   "source": [
    "title = driver.find_elements(By.CSS_SELECTOR, \".h.fz_03\")\n",
    "len(title)"
   ]
  },
  {
   "cell_type": "code",
   "execution_count": 58,
   "id": "767af7f7",
   "metadata": {
    "collapsed": true
   },
   "outputs": [
    {
     "ename": "NoSuchWindowException",
     "evalue": "Message: no such window: target window already closed\nfrom unknown error: web view not found\n  (Session info: chrome=116.0.5845.111)\nStacktrace:\n\tGetHandleVerifier [0x00007FF7F6B252A2+57122]\n\t(No symbol) [0x00007FF7F6A9EA92]\n\t(No symbol) [0x00007FF7F696E3AB]\n\t(No symbol) [0x00007FF7F694E1B9]\n\t(No symbol) [0x00007FF7F69CB417]\n\t(No symbol) [0x00007FF7F69DE24F]\n\t(No symbol) [0x00007FF7F69C6DB3]\n\t(No symbol) [0x00007FF7F699D2B1]\n\t(No symbol) [0x00007FF7F699E494]\n\tGetHandleVerifier [0x00007FF7F6DCEF82+2849794]\n\tGetHandleVerifier [0x00007FF7F6E21D24+3189156]\n\tGetHandleVerifier [0x00007FF7F6E1ACAF+3160367]\n\tGetHandleVerifier [0x00007FF7F6BB6D06+653702]\n\t(No symbol) [0x00007FF7F6AAA208]\n\t(No symbol) [0x00007FF7F6AA62C4]\n\t(No symbol) [0x00007FF7F6AA63F6]\n\t(No symbol) [0x00007FF7F6A967A3]\n\tBaseThreadInitThunk [0x00007FFBE1FC26AD+29]\n\tRtlUserThreadStart [0x00007FFBE350AA68+40]\n",
     "output_type": "error",
     "traceback": [
      "\u001b[1;31m---------------------------------------------------------------------------\u001b[0m",
      "\u001b[1;31mNoSuchWindowException\u001b[0m                     Traceback (most recent call last)",
      "Cell \u001b[1;32mIn[58], line 6\u001b[0m\n\u001b[0;32m      4\u001b[0m \u001b[38;5;28;01mfor\u001b[39;00m i \u001b[38;5;129;01min\u001b[39;00m \u001b[38;5;28mrange\u001b[39m(\u001b[38;5;28mlen\u001b[39m(title)) :\n\u001b[0;32m      5\u001b[0m     title_list\u001b[38;5;241m.\u001b[39mappend(title[i]\u001b[38;5;241m.\u001b[39mtext)\n\u001b[1;32m----> 6\u001b[0m     price_list\u001b[38;5;241m.\u001b[39mappend(\u001b[43mprice\u001b[49m\u001b[43m[\u001b[49m\u001b[43mi\u001b[49m\u001b[43m]\u001b[49m\u001b[38;5;241;43m.\u001b[39;49m\u001b[43mtext\u001b[49m)\n",
      "File \u001b[1;32m~\\anaconda3\\lib\\site-packages\\selenium\\webdriver\\remote\\webelement.py:90\u001b[0m, in \u001b[0;36mWebElement.text\u001b[1;34m(self)\u001b[0m\n\u001b[0;32m     87\u001b[0m \u001b[38;5;129m@property\u001b[39m\n\u001b[0;32m     88\u001b[0m \u001b[38;5;28;01mdef\u001b[39;00m \u001b[38;5;21mtext\u001b[39m(\u001b[38;5;28mself\u001b[39m) \u001b[38;5;241m-\u001b[39m\u001b[38;5;241m>\u001b[39m \u001b[38;5;28mstr\u001b[39m:\n\u001b[0;32m     89\u001b[0m     \u001b[38;5;124;03m\"\"\"The text of the element.\"\"\"\u001b[39;00m\n\u001b[1;32m---> 90\u001b[0m     \u001b[38;5;28;01mreturn\u001b[39;00m \u001b[38;5;28;43mself\u001b[39;49m\u001b[38;5;241;43m.\u001b[39;49m\u001b[43m_execute\u001b[49m\u001b[43m(\u001b[49m\u001b[43mCommand\u001b[49m\u001b[38;5;241;43m.\u001b[39;49m\u001b[43mGET_ELEMENT_TEXT\u001b[49m\u001b[43m)\u001b[49m[\u001b[38;5;124m\"\u001b[39m\u001b[38;5;124mvalue\u001b[39m\u001b[38;5;124m\"\u001b[39m]\n",
      "File \u001b[1;32m~\\anaconda3\\lib\\site-packages\\selenium\\webdriver\\remote\\webelement.py:395\u001b[0m, in \u001b[0;36mWebElement._execute\u001b[1;34m(self, command, params)\u001b[0m\n\u001b[0;32m    393\u001b[0m     params \u001b[38;5;241m=\u001b[39m {}\n\u001b[0;32m    394\u001b[0m params[\u001b[38;5;124m\"\u001b[39m\u001b[38;5;124mid\u001b[39m\u001b[38;5;124m\"\u001b[39m] \u001b[38;5;241m=\u001b[39m \u001b[38;5;28mself\u001b[39m\u001b[38;5;241m.\u001b[39m_id\n\u001b[1;32m--> 395\u001b[0m \u001b[38;5;28;01mreturn\u001b[39;00m \u001b[38;5;28;43mself\u001b[39;49m\u001b[38;5;241;43m.\u001b[39;49m\u001b[43m_parent\u001b[49m\u001b[38;5;241;43m.\u001b[39;49m\u001b[43mexecute\u001b[49m\u001b[43m(\u001b[49m\u001b[43mcommand\u001b[49m\u001b[43m,\u001b[49m\u001b[43m \u001b[49m\u001b[43mparams\u001b[49m\u001b[43m)\u001b[49m\n",
      "File \u001b[1;32m~\\anaconda3\\lib\\site-packages\\selenium\\webdriver\\remote\\webdriver.py:345\u001b[0m, in \u001b[0;36mWebDriver.execute\u001b[1;34m(self, driver_command, params)\u001b[0m\n\u001b[0;32m    343\u001b[0m response \u001b[38;5;241m=\u001b[39m \u001b[38;5;28mself\u001b[39m\u001b[38;5;241m.\u001b[39mcommand_executor\u001b[38;5;241m.\u001b[39mexecute(driver_command, params)\n\u001b[0;32m    344\u001b[0m \u001b[38;5;28;01mif\u001b[39;00m response:\n\u001b[1;32m--> 345\u001b[0m     \u001b[38;5;28;43mself\u001b[39;49m\u001b[38;5;241;43m.\u001b[39;49m\u001b[43merror_handler\u001b[49m\u001b[38;5;241;43m.\u001b[39;49m\u001b[43mcheck_response\u001b[49m\u001b[43m(\u001b[49m\u001b[43mresponse\u001b[49m\u001b[43m)\u001b[49m\n\u001b[0;32m    346\u001b[0m     response[\u001b[38;5;124m\"\u001b[39m\u001b[38;5;124mvalue\u001b[39m\u001b[38;5;124m\"\u001b[39m] \u001b[38;5;241m=\u001b[39m \u001b[38;5;28mself\u001b[39m\u001b[38;5;241m.\u001b[39m_unwrap_value(response\u001b[38;5;241m.\u001b[39mget(\u001b[38;5;124m\"\u001b[39m\u001b[38;5;124mvalue\u001b[39m\u001b[38;5;124m\"\u001b[39m, \u001b[38;5;28;01mNone\u001b[39;00m))\n\u001b[0;32m    347\u001b[0m     \u001b[38;5;28;01mreturn\u001b[39;00m response\n",
      "File \u001b[1;32m~\\anaconda3\\lib\\site-packages\\selenium\\webdriver\\remote\\errorhandler.py:229\u001b[0m, in \u001b[0;36mErrorHandler.check_response\u001b[1;34m(self, response)\u001b[0m\n\u001b[0;32m    227\u001b[0m         alert_text \u001b[38;5;241m=\u001b[39m value[\u001b[38;5;124m\"\u001b[39m\u001b[38;5;124malert\u001b[39m\u001b[38;5;124m\"\u001b[39m]\u001b[38;5;241m.\u001b[39mget(\u001b[38;5;124m\"\u001b[39m\u001b[38;5;124mtext\u001b[39m\u001b[38;5;124m\"\u001b[39m)\n\u001b[0;32m    228\u001b[0m     \u001b[38;5;28;01mraise\u001b[39;00m exception_class(message, screen, stacktrace, alert_text)  \u001b[38;5;66;03m# type: ignore[call-arg]  # mypy is not smart enough here\u001b[39;00m\n\u001b[1;32m--> 229\u001b[0m \u001b[38;5;28;01mraise\u001b[39;00m exception_class(message, screen, stacktrace)\n",
      "\u001b[1;31mNoSuchWindowException\u001b[0m: Message: no such window: target window already closed\nfrom unknown error: web view not found\n  (Session info: chrome=116.0.5845.111)\nStacktrace:\n\tGetHandleVerifier [0x00007FF7F6B252A2+57122]\n\t(No symbol) [0x00007FF7F6A9EA92]\n\t(No symbol) [0x00007FF7F696E3AB]\n\t(No symbol) [0x00007FF7F694E1B9]\n\t(No symbol) [0x00007FF7F69CB417]\n\t(No symbol) [0x00007FF7F69DE24F]\n\t(No symbol) [0x00007FF7F69C6DB3]\n\t(No symbol) [0x00007FF7F699D2B1]\n\t(No symbol) [0x00007FF7F699E494]\n\tGetHandleVerifier [0x00007FF7F6DCEF82+2849794]\n\tGetHandleVerifier [0x00007FF7F6E21D24+3189156]\n\tGetHandleVerifier [0x00007FF7F6E1ACAF+3160367]\n\tGetHandleVerifier [0x00007FF7F6BB6D06+653702]\n\t(No symbol) [0x00007FF7F6AAA208]\n\t(No symbol) [0x00007FF7F6AA62C4]\n\t(No symbol) [0x00007FF7F6AA63F6]\n\t(No symbol) [0x00007FF7F6A967A3]\n\tBaseThreadInitThunk [0x00007FFBE1FC26AD+29]\n\tRtlUserThreadStart [0x00007FFBE350AA68+40]\n"
     ]
    }
   ],
   "source": [
    "# 수집된 요소를 텍스트 데이터만 추출\n",
    "title_list = []\n",
    "price_list = []\n",
    "for i in range(len(title)) :\n",
    "    title_list.append(title[i].text)\n",
    "    price_list.append(price[i].text)"
   ]
  },
  {
   "cell_type": "markdown",
   "id": "fee9e63f",
   "metadata": {},
   "source": [
    "### 한셀에 코드 합치기\n",
    "- 프로그램(실행파일) 제작할 때는 반드시 코드를 한셀에 합쳐야 한다"
   ]
  },
  {
   "cell_type": "code",
   "execution_count": 67,
   "id": "2bfa0388",
   "metadata": {},
   "outputs": [
    {
     "name": "stdout",
     "output_type": "stream",
     "text": [
      "더보기가 없습니다.\n"
     ]
    }
   ],
   "source": [
    "from selenium import webdriver as wb\n",
    "from selenium.webdriver.common.by import By\n",
    "from selenium.webdriver.common.keys import Keys\n",
    "import time\n",
    "import pandas as pd\n",
    "\n",
    "driver = wb.Chrome()\n",
    "driver.get(\"https://www.hsd.co.kr/menu/menu_list\")\n",
    "\n",
    "try :\n",
    "    # 에러가 나기 전까지 실행할 코드\n",
    "    for i in range(15):\n",
    "        btn = driver.find_element(By.CSS_SELECTOR, \".c_05\")\n",
    "        btn.click()\n",
    "        time.sleep(3)\n",
    "except :\n",
    "    # 에러가 났을 때 실행할 코드\n",
    "    print(\"더보기가 없습니다.\")\n",
    "# -- 데이터 준비 단계 --\n",
    "title = driver.find_elements(By.CSS_SELECTOR, \".h.fz_03\")\n",
    "price = driver.find_elements(By.CSS_SELECTOR, \"div > div.item-text > div > strong\")\n",
    "# -- 데이터 수집 단계 --\n",
    "title_list = []\n",
    "price_list = []\n",
    "for i in range(len(title)) :\n",
    "    title_list.append(title[i].text)\n",
    "    price_list.append(price[i].text)\n",
    "# -- 데이터 가공 단계 --\n",
    "dic = {\"상품명\" : title_list, \"가격정보\" : price_list}\n",
    "pd.DataFrame(dic)\n",
    "hansot = pd.DataFrame(dic)\n",
    "hansot.to_csv(\"한솥.csv\",encoding=\"utf-8-sig\")\n",
    "# -- 데이터 활용 단계 --"
   ]
  },
  {
   "cell_type": "code",
   "execution_count": 66,
   "id": "bcd71da0",
   "metadata": {},
   "outputs": [],
   "source": [
    "hansot.to_csv(\"한솥.csv\",encoding=\"utf-8-sig\")"
   ]
  },
  {
   "cell_type": "code",
   "execution_count": null,
   "id": "e9b0c972",
   "metadata": {},
   "outputs": [],
   "source": [
    "time.sleep(5)\n",
    "driver.implicitly_wait(5)"
   ]
  },
  {
   "cell_type": "markdown",
   "id": "c22978f5",
   "metadata": {},
   "source": [
    "# 크롤링하는 프로세스\n",
    "- 데이터 준비, 데이터 수집, 데이터 가공, 데이터 활용\n",
    "- 데이터 준비 = 완벽한 데이터를 수집하기 위해서 화면 준비를 하는 단계( 더보기 버튼을 다 누르는 행위, 화면 스크롤을 최하단까지 이동)\n",
    "- 데이터 수집 = 준비된 데이터(html)에서 필요한 요소를 수집\n",
    "- 데이터 가공 = 수집된 데이터(요소)를 필요한 컨텐츠, 속성만 가공\n",
    "- 데이터 활용 = 가공된 데이터를 표, 파일로 제작"
   ]
  },
  {
   "cell_type": "markdown",
   "id": "fb50b8fa",
   "metadata": {},
   "source": [
    "# 크롤링 팁\n",
    "- 반드시 selenium을 활용 할 때는 'cell run all'을 금지한다!\n",
    "- 항상 사람처럼 코딩을 작성하자!\n",
    "- 요청과 응답 사이에는 반드시 시간을 부여\n",
    "- tip!\n",
    "- time.sleep vs implicitly_wait\n",
    "- time : 무조건 내가 설정한 시간만큼 코드를 중단.\n",
    "- implicitly_wait : 설정한 시간보다 완료된 시간이 짧으면 완료가 된 기점으로 코드가 진행. \n",
    "    -> 네트워크 환경이 좋을 때는 장점\n"
   ]
  },
  {
   "cell_type": "code",
   "execution_count": null,
   "id": "2d777201",
   "metadata": {},
   "outputs": [],
   "source": []
  }
 ],
 "metadata": {
  "kernelspec": {
   "display_name": "Python 3 (ipykernel)",
   "language": "python",
   "name": "python3"
  },
  "language_info": {
   "codemirror_mode": {
    "name": "ipython",
    "version": 3
   },
   "file_extension": ".py",
   "mimetype": "text/x-python",
   "name": "python",
   "nbconvert_exporter": "python",
   "pygments_lexer": "ipython3",
   "version": "3.10.9"
  }
 },
 "nbformat": 4,
 "nbformat_minor": 5
}
