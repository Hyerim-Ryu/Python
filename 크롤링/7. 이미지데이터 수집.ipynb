{
 "cells": [
  {
   "cell_type": "code",
   "execution_count": 1,
   "id": "9cb20589",
   "metadata": {},
   "outputs": [],
   "source": [
    "from selenium import webdriver as wb\n",
    "from selenium.webdriver.common.by import By\n",
    "import time\n",
    "from selenium.webdriver.common.keys import Keys\n",
    "\n",
    "# 파일시스템을 위한 라이브러리(삭제, 생성)\n",
    "import os\n",
    "# 이미지의 경로를 실제 파일로 저장\n",
    "from urllib.request import urlretrieve"
   ]
  },
  {
   "cell_type": "code",
   "execution_count": 20,
   "id": "a5342020",
   "metadata": {},
   "outputs": [],
   "source": [
    "# 폴더 생성\n",
    "# 바탕화면에 이미지라는 폴더가 없다면 바탕화면에 이미지라는 폴더를 만들어라\n",
    "if not os.path.isdir(\"C:/Users/gjaischool/Desktop/이미지\") :\n",
    "    os.mkdir(\"C:/Users/gjaischool/Desktop/이미지\")"
   ]
  },
  {
   "cell_type": "code",
   "execution_count": 21,
   "id": "47190868",
   "metadata": {},
   "outputs": [],
   "source": [
    "driver = wb.Chrome()\n",
    "driver.get('https://search.naver.com/search.naver?where=image&sm=tab_jum&query=%EC%9E%A5%EC%9B%90%EC%98%81')"
   ]
  },
  {
   "cell_type": "code",
   "execution_count": 33,
   "id": "65010909",
   "metadata": {},
   "outputs": [],
   "source": [
    "# 스크롤 하는 코드\n",
    "for i in range(10) :\n",
    "    body = driver.find_element(By.CSS_SELECTOR, 'body')\n",
    "    body.send_keys(Keys.END)"
   ]
  },
  {
   "cell_type": "code",
   "execution_count": 30,
   "id": "9ec0d79e",
   "metadata": {},
   "outputs": [],
   "source": [
    "# 이미지 태그들을 수집\n",
    "img = driver.find_elements(By.CSS_SELECTOR, \"._image._listImage\")"
   ]
  },
  {
   "cell_type": "code",
   "execution_count": 23,
   "id": "24078efc",
   "metadata": {},
   "outputs": [
    {
     "data": {
      "text/plain": [
       "'https://search.pstatic.net/sunny/?src=https%3A%2F%2Fimg.mimint.co.kr%2Ftalk%2Fbbs%2F2023%2F07%2F31%2FM2307312018092281r.jpg&type=ofullfill340_600_png'"
      ]
     },
     "execution_count": 23,
     "metadata": {},
     "output_type": "execute_result"
    }
   ],
   "source": [
    "# 태그 안에있는 속성을 가지고 올 때는 get_attribute('속성')\n",
    "img[0].get_attribute('src')"
   ]
  },
  {
   "cell_type": "code",
   "execution_count": 31,
   "id": "ce9a3996",
   "metadata": {},
   "outputs": [],
   "source": [
    "# src만 담아줄 리스트를 제작\n",
    "src = []\n",
    "for i in range(len(img)) :\n",
    "    src.append(img[i].get_attribute('src'))"
   ]
  },
  {
   "cell_type": "code",
   "execution_count": 25,
   "id": "aa3237f4",
   "metadata": {
    "collapsed": true
   },
   "outputs": [
    {
     "data": {
      "text/plain": [
       "['https://search.pstatic.net/sunny/?src=https%3A%2F%2Fimg.mimint.co.kr%2Ftalk%2Fbbs%2F2023%2F07%2F31%2FM2307312018092281r.jpg&type=ofullfill340_600_png',\n",
       " 'https://search.pstatic.net/common/?src=http%3A%2F%2Fpost.phinf.naver.net%2FMjAyMzA3MTRfMjgw%2FMDAxNjg5MzI1OTQ4MDgz.Rp-DWarxB6ynT3pRjqfdoMGZ7gsrF11ZdQT5-ujGqmwg.dRceXxc-Vev1DUhYhZ3GJ_zbDd4-iDJqOV_f3X3TaZog.JPEG%2FIInkLrmLfXN3ONL-nLej_savEhyE.jpg&type=a340',\n",
       " 'https://search.pstatic.net/common/?src=http%3A%2F%2Fblogfiles.naver.net%2FMjAyMzA3MDRfMjI3%2FMDAxNjg4NDcwODg1ODc2.fwW_uEZvZwRE3kDqEMCI7VedRxAKf1lKAisgbVDn_QIg.wxjD6PjcMfFh3zSLOdcmGHaQrPkA1wDVUV814DxrKKYg.JPEG.niceguy00%2FSeul_%25BE%25C6%25C0%25CC%25BA%25EA_%25BF%25F8%25BF%25B5_%25C7%25CF%25C6%25C4%25C5%25A9%25B8%25AE%25BD%25BA%25C6%25BE28.jpg&type=ofullfill340_600_png',\n",
       " 'https://search.pstatic.net/common/?src=http%3A%2F%2Fblogfiles.naver.net%2FMjAyMzA0MjNfMTMx%2FMDAxNjgyMjQ3NTQ5MjUy.WfmekI3ye4A3so8eZNgtujA7iR0AHLstyIWKvCbyjLkg.X9Ri4PZS0buVOh-XcgD_nw2q3w6jjvetxnn7bCeTpJkg.JPEG.jyg268411%2F2023%25A3%25AD04%25A3%25AD22%25A3%25DF22%25A3%25AD00%25A3%25AD01%25A3%25DFpolarr.jpg&type=a340',\n",
       " 'https://search.pstatic.net/common/?src=http%3A%2F%2Fimgnews.naver.net%2Fimage%2F417%2F2023%2F07%2F14%2F0000935170_001_20230714140601450.jpg&type=a340',\n",
       " 'https://search.pstatic.net/common/?src=http%3A%2F%2Fblogfiles.naver.net%2FMjAyMzA3MjNfNjgg%2FMDAxNjkwMDg0MzUwMzQw.k2V9140yueX9K41W4_btoJW-NDTzu9mr0lXolKwab6Qg.vP1nkUZUPqqTQP1SfwG2YUF7MmmqeOApMot8qlAKzOcg.PNG.hsio57%2F%25B1%25A4%25C3%25A4%25B9%25B0%25B1%25A4%25C7%25C7%25BA%25CE.png&type=a340',\n",
       " 'https://search.pstatic.net/common/?src=http%3A%2F%2Fblogfiles.naver.net%2FMjAyMzA3MDNfOTYg%2FMDAxNjg4MzkwOTI0NzQy.Sl-zIGSKPp1t9MNsOPvWDQ-wMVp0G_4OqvhknxVKKq8g.pDuQP7kMC1_gnixvmNP95cFEXAKVYxscjut3IYjk8e0g.JPEG.narcoking%2F2023-07-03_22_15_17.jpg&type=a340',\n",
       " 'https://search.pstatic.net/common/?src=http%3A%2F%2Fimgnews.naver.net%2Fimage%2F408%2F2023%2F04%2F06%2F0000185003_002_20230406130501459.jpeg&type=a340',\n",
       " 'https://search.pstatic.net/common/?src=http%3A%2F%2Fimgnews.naver.net%2Fimage%2F5486%2F2023%2F06%2F01%2F0000247481_006_20230601124007817.jpg&type=a340',\n",
       " 'https://search.pstatic.net/common/?src=http%3A%2F%2Fblogfiles.naver.net%2FMjAyMzA2MDFfMjUx%2FMDAxNjg1NjAxNjU5MzY4.Q28gpCrkOSdkjBSolqwjjLuR0DWbEzlM5YdfdzgxcAkg.EyCcXCsPVaxZeJEkgLdP5GuqvIpTHyGyY-PVYw3np3cg.JPEG.jobary1%2F%25B4%25BAE%25C6%25F7%25C5%25E4_%25BE%25C6%25C0%25CC%25BA%25EA_%25C0%25E5%25BF%25F8%25BF%25B5___%25BC%25BC%25BB%25F3_%25BF%25B9%25BB%25DB_%25BF%25E4%25C1%25A4_.jpg&type=a340',\n",
       " 'https://search.pstatic.net/common/?src=http%3A%2F%2Fblogfiles.naver.net%2FMjAyMzA3MjFfMTEy%2FMDAxNjg5ODc1MzA2MjQw.N2_I8S8lNMk-n9kbNAjfaTrAHRkS4EuzCV404KekzwUg.z9A1Bw6IKdQvox9Tw2V26aYBmWCjflEjnepKJZnWHKIg.JPEG.starljw90%2F1689860915_cEYseb4W_thumb-9eb57060b9a8b11af7a04b3171aefea8_1689857770_571_83.jpg&type=a340',\n",
       " 'https://search.pstatic.net/common/?src=http%3A%2F%2Fblogfiles.naver.net%2FMjAyMzAxMjhfNDAg%2FMDAxNjc0OTA2MzMyNDg3.PytXSkCKKtVWjyZ6RSZz8ScPjSH8YfyFXbY0dL_8ngEg.c7HMXs9Lss7csiaGrLwg9SynCa9rKU47wbgcQOCiVg4g.JPEG.kwhyun2880%2F3.jpg&type=a340',\n",
       " 'data:image/gif;base64,R0lGODlhAQABAIAAAAAAAP///yH5BAEAAAAALAAAAAABAAEAAAIBRAA7',\n",
       " 'data:image/gif;base64,R0lGODlhAQABAIAAAAAAAP///yH5BAEAAAAALAAAAAABAAEAAAIBRAA7',\n",
       " 'data:image/gif;base64,R0lGODlhAQABAIAAAAAAAP///yH5BAEAAAAALAAAAAABAAEAAAIBRAA7',\n",
       " 'data:image/gif;base64,R0lGODlhAQABAIAAAAAAAP///yH5BAEAAAAALAAAAAABAAEAAAIBRAA7',\n",
       " 'data:image/gif;base64,R0lGODlhAQABAIAAAAAAAP///yH5BAEAAAAALAAAAAABAAEAAAIBRAA7',\n",
       " 'data:image/gif;base64,R0lGODlhAQABAIAAAAAAAP///yH5BAEAAAAALAAAAAABAAEAAAIBRAA7',\n",
       " 'data:image/gif;base64,R0lGODlhAQABAIAAAAAAAP///yH5BAEAAAAALAAAAAABAAEAAAIBRAA7',\n",
       " 'data:image/gif;base64,R0lGODlhAQABAIAAAAAAAP///yH5BAEAAAAALAAAAAABAAEAAAIBRAA7',\n",
       " 'data:image/gif;base64,R0lGODlhAQABAIAAAAAAAP///yH5BAEAAAAALAAAAAABAAEAAAIBRAA7',\n",
       " 'data:image/gif;base64,R0lGODlhAQABAIAAAAAAAP///yH5BAEAAAAALAAAAAABAAEAAAIBRAA7',\n",
       " 'data:image/gif;base64,R0lGODlhAQABAIAAAAAAAP///yH5BAEAAAAALAAAAAABAAEAAAIBRAA7',\n",
       " 'data:image/gif;base64,R0lGODlhAQABAIAAAAAAAP///yH5BAEAAAAALAAAAAABAAEAAAIBRAA7',\n",
       " 'data:image/gif;base64,R0lGODlhAQABAIAAAAAAAP///yH5BAEAAAAALAAAAAABAAEAAAIBRAA7',\n",
       " 'data:image/gif;base64,R0lGODlhAQABAIAAAAAAAP///yH5BAEAAAAALAAAAAABAAEAAAIBRAA7',\n",
       " 'data:image/gif;base64,R0lGODlhAQABAIAAAAAAAP///yH5BAEAAAAALAAAAAABAAEAAAIBRAA7',\n",
       " 'data:image/gif;base64,R0lGODlhAQABAIAAAAAAAP///yH5BAEAAAAALAAAAAABAAEAAAIBRAA7',\n",
       " 'data:image/gif;base64,R0lGODlhAQABAIAAAAAAAP///yH5BAEAAAAALAAAAAABAAEAAAIBRAA7',\n",
       " 'data:image/gif;base64,R0lGODlhAQABAIAAAAAAAP///yH5BAEAAAAALAAAAAABAAEAAAIBRAA7',\n",
       " 'data:image/gif;base64,R0lGODlhAQABAIAAAAAAAP///yH5BAEAAAAALAAAAAABAAEAAAIBRAA7',\n",
       " 'data:image/gif;base64,R0lGODlhAQABAIAAAAAAAP///yH5BAEAAAAALAAAAAABAAEAAAIBRAA7',\n",
       " 'data:image/gif;base64,R0lGODlhAQABAIAAAAAAAP///yH5BAEAAAAALAAAAAABAAEAAAIBRAA7',\n",
       " 'data:image/gif;base64,R0lGODlhAQABAIAAAAAAAP///yH5BAEAAAAALAAAAAABAAEAAAIBRAA7',\n",
       " 'data:image/gif;base64,R0lGODlhAQABAIAAAAAAAP///yH5BAEAAAAALAAAAAABAAEAAAIBRAA7',\n",
       " 'data:image/gif;base64,R0lGODlhAQABAIAAAAAAAP///yH5BAEAAAAALAAAAAABAAEAAAIBRAA7',\n",
       " 'data:image/gif;base64,R0lGODlhAQABAIAAAAAAAP///yH5BAEAAAAALAAAAAABAAEAAAIBRAA7',\n",
       " 'data:image/gif;base64,R0lGODlhAQABAIAAAAAAAP///yH5BAEAAAAALAAAAAABAAEAAAIBRAA7',\n",
       " 'data:image/gif;base64,R0lGODlhAQABAIAAAAAAAP///yH5BAEAAAAALAAAAAABAAEAAAIBRAA7',\n",
       " 'data:image/gif;base64,R0lGODlhAQABAIAAAAAAAP///yH5BAEAAAAALAAAAAABAAEAAAIBRAA7',\n",
       " 'data:image/gif;base64,R0lGODlhAQABAIAAAAAAAP///yH5BAEAAAAALAAAAAABAAEAAAIBRAA7',\n",
       " 'data:image/gif;base64,R0lGODlhAQABAIAAAAAAAP///yH5BAEAAAAALAAAAAABAAEAAAIBRAA7',\n",
       " 'data:image/gif;base64,R0lGODlhAQABAIAAAAAAAP///yH5BAEAAAAALAAAAAABAAEAAAIBRAA7',\n",
       " 'data:image/gif;base64,R0lGODlhAQABAIAAAAAAAP///yH5BAEAAAAALAAAAAABAAEAAAIBRAA7',\n",
       " 'data:image/gif;base64,R0lGODlhAQABAIAAAAAAAP///yH5BAEAAAAALAAAAAABAAEAAAIBRAA7',\n",
       " 'data:image/gif;base64,R0lGODlhAQABAIAAAAAAAP///yH5BAEAAAAALAAAAAABAAEAAAIBRAA7',\n",
       " 'data:image/gif;base64,R0lGODlhAQABAIAAAAAAAP///yH5BAEAAAAALAAAAAABAAEAAAIBRAA7',\n",
       " 'data:image/gif;base64,R0lGODlhAQABAIAAAAAAAP///yH5BAEAAAAALAAAAAABAAEAAAIBRAA7',\n",
       " 'data:image/gif;base64,R0lGODlhAQABAIAAAAAAAP///yH5BAEAAAAALAAAAAABAAEAAAIBRAA7',\n",
       " 'data:image/gif;base64,R0lGODlhAQABAIAAAAAAAP///yH5BAEAAAAALAAAAAABAAEAAAIBRAA7']"
      ]
     },
     "execution_count": 25,
     "metadata": {},
     "output_type": "execute_result"
    }
   ],
   "source": [
    "src"
   ]
  },
  {
   "cell_type": "code",
   "execution_count": 32,
   "id": "f7a65ebf",
   "metadata": {},
   "outputs": [],
   "source": [
    "# 이미지의 경로를 실제 파일로 저장\n",
    "for i in range(len(src)) :\n",
    "    urlretrieve(src[i],'C:/Users/gjaischool/Desktop/이미지/'+str(i)+'.jpg')"
   ]
  }
 ],
 "metadata": {
  "kernelspec": {
   "display_name": "Python 3 (ipykernel)",
   "language": "python",
   "name": "python3"
  },
  "language_info": {
   "codemirror_mode": {
    "name": "ipython",
    "version": 3
   },
   "file_extension": ".py",
   "mimetype": "text/x-python",
   "name": "python",
   "nbconvert_exporter": "python",
   "pygments_lexer": "ipython3",
   "version": "3.10.9"
  }
 },
 "nbformat": 4,
 "nbformat_minor": 5
}
